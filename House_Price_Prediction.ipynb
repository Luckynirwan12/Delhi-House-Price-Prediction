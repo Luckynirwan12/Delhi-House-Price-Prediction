{
  "nbformat": 4,
  "nbformat_minor": 0,
  "metadata": {
    "colab": {
      "provenance": [],
      "authorship_tag": "ABX9TyNSMXDDloTciKCY5z9rkL0/",
      "include_colab_link": true
    },
    "kernelspec": {
      "name": "python3",
      "display_name": "Python 3"
    },
    "language_info": {
      "name": "python"
    }
  },
  "cells": [
    {
      "cell_type": "markdown",
      "metadata": {
        "id": "view-in-github",
        "colab_type": "text"
      },
      "source": [
        "<a href=\"https://colab.research.google.com/github/Luckynirwan12/Delhi-House-Price-Prediction/blob/main/House_Price_Prediction.ipynb\" target=\"_parent\"><img src=\"https://colab.research.google.com/assets/colab-badge.svg\" alt=\"Open In Colab\"/></a>"
      ]
    },
    {
      "cell_type": "markdown",
      "source": [
        "## **House Price Prediction**"
      ],
      "metadata": {
        "id": "6AMVcomA63R3"
      }
    },
    {
      "cell_type": "markdown",
      "source": [
        "### Importing Dependencies"
      ],
      "metadata": {
        "id": "3O6kypp3KIrT"
      }
    },
    {
      "cell_type": "code",
      "execution_count": null,
      "metadata": {
        "id": "L3bzFTU5J-nt"
      },
      "outputs": [],
      "source": [
        "import numpy as np\n",
        "import pandas as pd\n",
        "import matplotlib.pyplot as plt\n",
        "import seaborn as sns\n",
        "from sklearn.model_selection import train_test_split\n",
        "from sklearn.preprocessing import LabelEncoder\n",
        "from sklearn.preprocessing import StandardScaler\n",
        "from xgboost import XGBRegressor\n",
        "from sklearn.metrics import mean_squared_error, r2_score"
      ]
    },
    {
      "cell_type": "markdown",
      "source": [
        "### Importing the Delhi House Price Dataset"
      ],
      "metadata": {
        "id": "KdnbrmqTLI1x"
      }
    },
    {
      "cell_type": "code",
      "source": [
        "house_price_df = pd.read_csv('/content/Delhi House Price.csv')\n",
        "house_price_df.head()"
      ],
      "metadata": {
        "id": "Ej-SScaLLFiK"
      },
      "execution_count": null,
      "outputs": []
    },
    {
      "cell_type": "code",
      "source": [
        "# Check the number of row and columns\n",
        "house_price_df.shape"
      ],
      "metadata": {
        "id": "6HftxF_UQToU"
      },
      "execution_count": null,
      "outputs": []
    },
    {
      "cell_type": "code",
      "source": [
        "# Check info about the data\n",
        "house_price_df.info()"
      ],
      "metadata": {
        "id": "lr-bF3MNQZvE"
      },
      "execution_count": null,
      "outputs": []
    },
    {
      "cell_type": "code",
      "source": [
        "# check null values\n",
        "house_price_df.isnull().sum()"
      ],
      "metadata": {
        "id": "cudF_1-jXNBf"
      },
      "execution_count": null,
      "outputs": []
    },
    {
      "cell_type": "code",
      "source": [
        "# Remove the null values\n",
        "house_price_df = house_price_df.dropna()"
      ],
      "metadata": {
        "id": "CFYtNePOXYpJ"
      },
      "execution_count": null,
      "outputs": []
    },
    {
      "cell_type": "code",
      "source": [
        "# Now again check null values\n",
        "house_price_df.isnull().sum()"
      ],
      "metadata": {
        "id": "-JFPUoqwXi4t"
      },
      "execution_count": null,
      "outputs": []
    },
    {
      "cell_type": "code",
      "source": [
        "# Get count of each values in each column\n",
        "for column in house_price_df.columns:\n",
        "  print(house_price_df[column].value_counts())\n",
        "  print('-'*20)"
      ],
      "metadata": {
        "id": "uDUR8evtYYMA"
      },
      "execution_count": null,
      "outputs": []
    },
    {
      "cell_type": "code",
      "source": [
        "# Drop unnessecary columns\n",
        "house_price_df.drop(columns= ['Status', 'Transaction', 'Per_Sqft'], inplace=True)"
      ],
      "metadata": {
        "id": "_f_tpF-Ybb4p"
      },
      "execution_count": null,
      "outputs": []
    },
    {
      "cell_type": "code",
      "source": [
        "house_price_df.info()"
      ],
      "metadata": {
        "id": "P7EUnYngcGu4"
      },
      "execution_count": null,
      "outputs": []
    },
    {
      "cell_type": "code",
      "source": [
        "house_price_df.describe()"
      ],
      "metadata": {
        "id": "rUMzfHXJctHl"
      },
      "execution_count": null,
      "outputs": []
    },
    {
      "cell_type": "code",
      "source": [
        "# Now we replace the location which are appeared less than 10 to the other\n",
        "house_price_df['Locality'].value_counts()"
      ],
      "metadata": {
        "id": "z3uiFvVHfApQ"
      },
      "execution_count": null,
      "outputs": []
    },
    {
      "cell_type": "code",
      "source": [
        "house_price_df['Locality'] = house_price_df['Locality'].apply(lambda x: 'Other' if house_price_df['Locality'].value_counts()[x] <= 10 else x)"
      ],
      "metadata": {
        "id": "2d7hlyklfuO1"
      },
      "execution_count": null,
      "outputs": []
    },
    {
      "cell_type": "code",
      "source": [
        "house_price_df['Locality'].value_counts()"
      ],
      "metadata": {
        "id": "XQmrMrf4f5BL"
      },
      "execution_count": null,
      "outputs": []
    },
    {
      "cell_type": "markdown",
      "source": [
        "### Detect and Remove the Outliers"
      ],
      "metadata": {
        "id": "oAa8m7UChV-2"
      }
    },
    {
      "cell_type": "code",
      "source": [
        "# Custom threshold-based outlier removal\n",
        "def remove_custom_outliers(df):\n",
        "    df = df[df['Area'] <= 3000]           # Cap Area at 3000 sq.ft\n",
        "    df = df[df['Parking'] <= 5]           # Cap Parking at 5\n",
        "    df = df[df['Price'] <= 5e7]           # Cap Price at 5 Crore (₹50,000,000)\n",
        "    return df\n",
        "\n",
        "# Apply on your DataFrame\n",
        "final_price_df = remove_custom_outliers(house_price_df)\n",
        "\n",
        "# Compare before vs after\n",
        "print(f\"Original rows: {house_price_df.shape[0]}\")\n",
        "print(f\"After outlier removal: {final_price_df.shape[0]}\")"
      ],
      "metadata": {
        "id": "AH5XWk3NhU6i"
      },
      "execution_count": null,
      "outputs": []
    },
    {
      "cell_type": "code",
      "source": [
        "final_price_df.describe()"
      ],
      "metadata": {
        "id": "A2IQnx_5Qjfr"
      },
      "execution_count": null,
      "outputs": []
    },
    {
      "cell_type": "code",
      "source": [
        "final_price_df.head()"
      ],
      "metadata": {
        "id": "k_Qx7kiODics"
      },
      "execution_count": null,
      "outputs": []
    },
    {
      "cell_type": "code",
      "source": [
        "# save th house_price_df\n",
        "final_price_df.to_csv('house_price_df.csv', index=False)"
      ],
      "metadata": {
        "id": "E8dErcNiPzJc"
      },
      "execution_count": null,
      "outputs": []
    },
    {
      "cell_type": "markdown",
      "source": [
        "### Train Model"
      ],
      "metadata": {
        "id": "z10xnhK3IKXd"
      }
    },
    {
      "cell_type": "code",
      "source": [
        "# Features and target\n",
        "X = final_price_df.drop('Price', axis=1)\n",
        "y = final_price_df['Price']"
      ],
      "metadata": {
        "id": "kROhNyJUIPTm"
      },
      "execution_count": null,
      "outputs": []
    },
    {
      "cell_type": "code",
      "source": [
        "from sklearn.preprocessing import LabelEncoder\n",
        "\n",
        "cat_cols = ['Furnishing', 'Locality', 'Type']\n",
        "le = LabelEncoder()\n",
        "\n",
        "for col in cat_cols:\n",
        "    X[col] = le.fit_transform(X[col])"
      ],
      "metadata": {
        "id": "24v7oeYpIj0X"
      },
      "execution_count": null,
      "outputs": []
    },
    {
      "cell_type": "code",
      "source": [
        "X_train, X_test, y_train, y_test = train_test_split(X, y, test_size=0.2, random_state=42)"
      ],
      "metadata": {
        "id": "HYfL-z-OInTh"
      },
      "execution_count": null,
      "outputs": []
    },
    {
      "cell_type": "code",
      "source": [
        "from xgboost import XGBRegressor\n",
        "from sklearn.metrics import mean_absolute_error, mean_squared_error, r2_score\n",
        "\n",
        "xgb_model = XGBRegressor(n_estimators=100, learning_rate=0.1, max_depth=5, random_state=42)\n",
        "xgb_model.fit(X_train, y_train)\n",
        "\n",
        "# Predict\n",
        "y_pred = xgb_model.predict(X_test)\n",
        "\n",
        "# Evaluation\n",
        "print(\"RMSE:\", mean_squared_error(y_test, y_pred))\n",
        "print(\"R² Score:\", r2_score(y_test, y_pred))\n",
        "print(\"MAE:\", mean_absolute_error(y_test, y_pred))\n"
      ],
      "metadata": {
        "id": "HDyc_FseIqGL"
      },
      "execution_count": null,
      "outputs": []
    },
    {
      "cell_type": "markdown",
      "source": [
        "### Deploy Model"
      ],
      "metadata": {
        "id": "SX2B4hCt6eO7"
      }
    },
    {
      "cell_type": "code",
      "source": [
        "import pickle\n",
        "\n",
        "with open(\"xgb_house_price_model.pkl\", \"wb\") as f:\n",
        "    pickle.dump(xgb_model, f)"
      ],
      "metadata": {
        "id": "h_HfLN5DI8mr"
      },
      "execution_count": null,
      "outputs": []
    }
  ]
}